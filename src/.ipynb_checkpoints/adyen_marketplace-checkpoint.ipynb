{
 "cells": [
  {
   "cell_type": "code",
   "execution_count": 49,
   "id": "8d98795c",
   "metadata": {},
   "outputs": [],
   "source": [
    "merchant_account = \"DevtoolsdailyECOM\"\n",
    "xapikey = \"AQEohmfuXNWTK0Qc+iSUl3IsqOuXW49MBJ9Tb74mFra7D8GivvapYMJOjRDBXVsNvuR83LVYjEgiTGAH-+jOHY+p0pPCHYu32B3a1oLBvIZvGUZ/BSNeMOnMj6j0=-+fmz_zA7Crh3Yyw]\"\n"
   ]
  },
  {
   "cell_type": "code",
   "execution_count": 50,
   "id": "262d32e9",
   "metadata": {},
   "outputs": [],
   "source": [
    "import Adyen\n",
    "\n",
    "ady = Adyen.Adyen()\n",
    "\n",
    "ady.payment.client.xapikey = xapikey\n",
    "ady.payment.client.skin_code = \"skin code for Hosted Payment pages\"\n",
    "ady.payment.client.hmac = \"HMAC key for skin code\"\n",
    "ady.payment.client.platform = \"test\" # Environment to use the library in.\n",
    "ady.payment.client.merchant_account = merchant_account"
   ]
  },
  {
   "cell_type": "code",
   "execution_count": 51,
   "id": "71975df9",
   "metadata": {},
   "outputs": [],
   "source": [
    "# curl https://cal-test.adyen.com/cal/services/Account/v6/createAccountHolder \\\n",
    "# -H \"x-API-key: YOUR_X-API-KEY\" \\\n",
    "# -H \"content-type: application/json\" \\\n",
    "# -d '{\n",
    "#    \"accountHolderCode\":\"YOUR_UNIQUE_ACCOUNT_HOLDER_CODE\",\n",
    "#    \"accountHolderDetails\":{\n",
    "#       \"address\": {\n",
    "#         \"country\": \"US\"\n",
    "#       },\n",
    "#       \"email\":\"tim@green.com\",\n",
    "#       \"individualDetails\":{\n",
    "#          \"name\":{\n",
    "#             \"firstName\":\"Tim\",\n",
    "#             \"gender\":\"MALE\",\n",
    "#             \"lastName\":\"Green\"\n",
    "#          }\n",
    "#       }\n",
    "#    },\n",
    "#    \"legalEntity\":\"Individual\"\n",
    "# }'"
   ]
  },
  {
   "cell_type": "code",
   "execution_count": 58,
   "id": "e22fbede",
   "metadata": {},
   "outputs": [],
   "source": [
    "res = ady.checkout.payment_methods({})"
   ]
  },
  {
   "cell_type": "code",
   "execution_count": 67,
   "id": "091d8635",
   "metadata": {},
   "outputs": [],
   "source": [
    "ady.checkout.orders?"
   ]
  },
  {
   "cell_type": "code",
   "execution_count": 53,
   "id": "d66f229a",
   "metadata": {},
   "outputs": [],
   "source": [
    "import requests"
   ]
  },
  {
   "cell_type": "code",
   "execution_count": 97,
   "id": "3406b607",
   "metadata": {},
   "outputs": [],
   "source": [
    "res = requests.post(\n",
    "    url=\"https://checkout-test.adyen.com/v67/paymentLinks\",\n",
    "    headers={\n",
    "       \"x-API-key\": xapikey\n",
    "    },\n",
    "    json={\n",
    "      \"reference\": \"asdf123\",\n",
    "      \"amount\": {\n",
    "        \"value\": 4200,\n",
    "        \"currency\": \"USD\"\n",
    "      },\n",
    "      \"shopperReference\": \"UNIQUE_SHOPPER_ID_6728\",\n",
    "      \"description\": \"Blue Bag - ModelM671\",\n",
    "      \"countryCode\": \"US\",\n",
    "      \"merchantAccount\": merchant_account,\n",
    "      \"shopperLocale\": \"en-US\"\n",
    "    }\n",
    ")"
   ]
  },
  {
   "cell_type": "code",
   "execution_count": 100,
   "id": "50bb96e6",
   "metadata": {},
   "outputs": [
    {
     "data": {
      "text/plain": [
       "'https://test.adyen.link/PLB69116567BB3D541'"
      ]
     },
     "execution_count": 100,
     "metadata": {},
     "output_type": "execute_result"
    }
   ],
   "source": [
    "res.json()[\"url\"]"
   ]
  },
  {
   "cell_type": "code",
   "execution_count": 101,
   "id": "6a203ec1",
   "metadata": {},
   "outputs": [],
   "source": [
    "res1 = requests.post(url=\"https://cal-test.adyen.com/cal/services/Account/v6/createAccountHolder\",\n",
    "              headers={\n",
    "       \"x-API-key\": xapikey\n",
    "    },\n",
    "              json={\n",
    "   \"accountHolderCode\":\"accountHolder1\",\n",
    "   \"legalEntity\":\"Individual\"\n",
    "})"
   ]
  },
  {
   "cell_type": "code",
   "execution_count": 105,
   "id": "5820732c",
   "metadata": {},
   "outputs": [
    {
     "data": {
      "text/plain": [
       "{'_content': b'',\n",
       " '_content_consumed': True,\n",
       " '_next': None,\n",
       " 'status_code': 401,\n",
       " 'headers': {'Date': 'Sun, 06 Jun 2021 07:05:54 GMT', 'Server': 'Apache', 'Set-Cookie': 'JSESSIONID=7EF0E8DA27A436604BE72FA153111374.test107e; Path=/cal; Secure; HttpOnly', 'WWW-Authenticate': 'BASIC realm=\"Adyen PAL Service Authentication\"', 'Content-Length': '0', 'Keep-Alive': 'timeout=15, max=100', 'Connection': 'Keep-Alive'},\n",
       " 'raw': <urllib3.response.HTTPResponse at 0x106cf2cd0>,\n",
       " 'url': 'https://cal-test.adyen.com/cal/services/Account/v6/createAccountHolder',\n",
       " 'encoding': None,\n",
       " 'history': [],\n",
       " 'reason': '401',\n",
       " 'cookies': <RequestsCookieJar[Cookie(version=0, name='JSESSIONID', value='7EF0E8DA27A436604BE72FA153111374.test107e', port=None, port_specified=False, domain='cal-test.adyen.com', domain_specified=False, domain_initial_dot=False, path='/cal', path_specified=True, secure=True, expires=None, discard=True, comment=None, comment_url=None, rest={'HttpOnly': None}, rfc2109=False)]>,\n",
       " 'elapsed': datetime.timedelta(microseconds=776583),\n",
       " 'request': <PreparedRequest [POST]>,\n",
       " 'connection': <requests.adapters.HTTPAdapter at 0x1065f9e50>}"
      ]
     },
     "execution_count": 105,
     "metadata": {},
     "output_type": "execute_result"
    }
   ],
   "source": [
    "res1.__dict__"
   ]
  },
  {
   "cell_type": "code",
   "execution_count": 90,
   "id": "5556510e",
   "metadata": {},
   "outputs": [],
   "source": [
    "res2 = requests.post(\n",
    "url=\"https://checkout-test.adyen.com/v67/paymentMethods\",\n",
    "    headers={\n",
    "       \"x-API-key\": xapikey\n",
    "    },\n",
    "    json={\n",
    "         \"merchantAccount\": merchant_account\n",
    "    }\n",
    ")"
   ]
  },
  {
   "cell_type": "code",
   "execution_count": 93,
   "id": "305fa212",
   "metadata": {},
   "outputs": [
    {
     "data": {
      "text/plain": [
       "'{\"paymentMethods\":[{\"brands\":[\"amex\",\"diners\",\"discover\",\"mc\",\"visa\"],\"details\":[{\"key\":\"encryptedCardNumber\",\"type\":\"cardToken\"},{\"key\":\"encryptedSecurityCode\",\"type\":\"cardToken\"},{\"key\":\"encryptedExpiryMonth\",\"type\":\"cardToken\"},{\"key\":\"encryptedExpiryYear\",\"type\":\"cardToken\"},{\"key\":\"holderName\",\"optional\":true,\"type\":\"text\"}],\"name\":\"Credit Card\",\"type\":\"scheme\"},{\"name\":\"Pay later with Klarna.\",\"type\":\"klarna\"},{\"name\":\"Pay over time with Klarna.\",\"type\":\"klarna_account\"}]}'"
      ]
     },
     "execution_count": 93,
     "metadata": {},
     "output_type": "execute_result"
    }
   ],
   "source": [
    "res2.text"
   ]
  },
  {
   "cell_type": "code",
   "execution_count": null,
   "id": "0dc62346",
   "metadata": {},
   "outputs": [],
   "source": []
  }
 ],
 "metadata": {
  "kernelspec": {
   "display_name": "Python 3",
   "language": "python",
   "name": "python3"
  },
  "language_info": {
   "codemirror_mode": {
    "name": "ipython",
    "version": 3
   },
   "file_extension": ".py",
   "mimetype": "text/x-python",
   "name": "python",
   "nbconvert_exporter": "python",
   "pygments_lexer": "ipython3",
   "version": "3.8.2"
  }
 },
 "nbformat": 4,
 "nbformat_minor": 5
}
