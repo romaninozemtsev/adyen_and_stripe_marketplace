{
 "cells": [
  {
   "cell_type": "code",
   "execution_count": 118,
   "id": "c29ba40b",
   "metadata": {},
   "outputs": [
    {
     "name": "stdout",
     "output_type": "stream",
     "text": [
      "········\n"
     ]
    }
   ],
   "source": [
    "merchant_account = \"DevtoolsdailyECOM\"\n",
    "import getpass\n",
    "xapikey = getpass.getpass()"
   ]
  },
  {
   "cell_type": "code",
   "execution_count": 119,
   "id": "8faf88ec",
   "metadata": {},
   "outputs": [],
   "source": [
    "import Adyen\n",
    "\n",
    "ady = Adyen.Adyen()\n",
    "\n",
    "ady.payment.client.xapikey = xapikey\n",
    "ady.payment.client.skin_code = \"skin code for Hosted Payment pages\"\n",
    "ady.payment.client.hmac = \"HMAC key for skin code\"\n",
    "ady.payment.client.platform = \"test\" # Environment to use the library in.\n",
    "ady.payment.client.merchant_account = merchant_account"
   ]
  },
  {
   "cell_type": "code",
   "execution_count": 120,
   "id": "f7ef3aeb",
   "metadata": {},
   "outputs": [],
   "source": [
    "# curl https://cal-test.adyen.com/cal/services/Account/v6/createAccountHolder \\\n",
    "# -H \"x-API-key: YOUR_X-API-KEY\" \\\n",
    "# -H \"content-type: application/json\" \\\n",
    "# -d '{\n",
    "#    \"accountHolderCode\":\"YOUR_UNIQUE_ACCOUNT_HOLDER_CODE\",\n",
    "#    \"accountHolderDetails\":{\n",
    "#       \"address\": {\n",
    "#         \"country\": \"US\"\n",
    "#       },\n",
    "#       \"email\":\"tim@green.com\",\n",
    "#       \"individualDetails\":{\n",
    "#          \"name\":{\n",
    "#             \"firstName\":\"Tim\",\n",
    "#             \"gender\":\"MALE\",\n",
    "#             \"lastName\":\"Green\"\n",
    "#          }\n",
    "#       }\n",
    "#    },\n",
    "#    \"legalEntity\":\"Individual\"\n",
    "# }'"
   ]
  },
  {
   "cell_type": "code",
   "execution_count": 121,
   "id": "0115080f",
   "metadata": {},
   "outputs": [
    {
     "ename": "AdyenAPIAuthenticationError",
     "evalue": "\"AdyenAPIAuthenticationError:Unable to authenticate with Adyen's Servers. Please verify the credentials set with the Adyen base class. Please reach out to your Adyen Admin if the problem persists\"",
     "output_type": "error",
     "traceback": [
      "\u001b[0;31m---------------------------------------------------------------------------\u001b[0m",
      "\u001b[0;31mAdyenAPIAuthenticationError\u001b[0m               Traceback (most recent call last)",
      "\u001b[0;32m<ipython-input-121-c62ccc12250d>\u001b[0m in \u001b[0;36m<module>\u001b[0;34m\u001b[0m\n\u001b[0;32m----> 1\u001b[0;31m \u001b[0mres\u001b[0m \u001b[0;34m=\u001b[0m \u001b[0mady\u001b[0m\u001b[0;34m.\u001b[0m\u001b[0mcheckout\u001b[0m\u001b[0;34m.\u001b[0m\u001b[0mpayment_methods\u001b[0m\u001b[0;34m(\u001b[0m\u001b[0;34m{\u001b[0m\u001b[0;34m}\u001b[0m\u001b[0;34m)\u001b[0m\u001b[0;34m\u001b[0m\u001b[0;34m\u001b[0m\u001b[0m\n\u001b[0m",
      "\u001b[0;32m~/src/stripe_api/venv/lib/python3.8/site-packages/Adyen/services.py\u001b[0m in \u001b[0;36mpayment_methods\u001b[0;34m(self, request, **kwargs)\u001b[0m\n\u001b[1;32m    303\u001b[0m                     ' when retrieving payment methods.')\n\u001b[1;32m    304\u001b[0m \u001b[0;34m\u001b[0m\u001b[0m\n\u001b[0;32m--> 305\u001b[0;31m         \u001b[0;32mreturn\u001b[0m \u001b[0mself\u001b[0m\u001b[0;34m.\u001b[0m\u001b[0mclient\u001b[0m\u001b[0;34m.\u001b[0m\u001b[0mcall_checkout_api\u001b[0m\u001b[0;34m(\u001b[0m\u001b[0mrequest\u001b[0m\u001b[0;34m,\u001b[0m \u001b[0maction\u001b[0m\u001b[0;34m,\u001b[0m \u001b[0;34m**\u001b[0m\u001b[0mkwargs\u001b[0m\u001b[0;34m)\u001b[0m\u001b[0;34m\u001b[0m\u001b[0;34m\u001b[0m\u001b[0m\n\u001b[0m\u001b[1;32m    306\u001b[0m \u001b[0;34m\u001b[0m\u001b[0m\n\u001b[1;32m    307\u001b[0m     \u001b[0;32mdef\u001b[0m \u001b[0mpayments\u001b[0m\u001b[0;34m(\u001b[0m\u001b[0mself\u001b[0m\u001b[0;34m,\u001b[0m \u001b[0mrequest\u001b[0m\u001b[0;34m,\u001b[0m \u001b[0midempotency_key\u001b[0m\u001b[0;34m=\u001b[0m\u001b[0;32mNone\u001b[0m\u001b[0;34m,\u001b[0m \u001b[0;34m**\u001b[0m\u001b[0mkwargs\u001b[0m\u001b[0;34m)\u001b[0m\u001b[0;34m:\u001b[0m\u001b[0;34m\u001b[0m\u001b[0;34m\u001b[0m\u001b[0m\n",
      "\u001b[0;32m~/src/stripe_api/venv/lib/python3.8/site-packages/Adyen/client.py\u001b[0m in \u001b[0;36mcall_checkout_api\u001b[0;34m(self, request_data, action, idempotency_key, **kwargs)\u001b[0m\n\u001b[1;32m    529\u001b[0m \u001b[0;34m\u001b[0m\u001b[0m\n\u001b[1;32m    530\u001b[0m         \u001b[0;31m# Creates AdyenResponse if request was successful, raises error if not.\u001b[0m\u001b[0;34m\u001b[0m\u001b[0;34m\u001b[0m\u001b[0;34m\u001b[0m\u001b[0m\n\u001b[0;32m--> 531\u001b[0;31m         adyen_result = self._handle_response(url, raw_response, raw_request,\n\u001b[0m\u001b[1;32m    532\u001b[0m                                              \u001b[0mstatus_code\u001b[0m\u001b[0;34m,\u001b[0m \u001b[0mheaders\u001b[0m\u001b[0;34m,\u001b[0m\u001b[0;34m\u001b[0m\u001b[0;34m\u001b[0m\u001b[0m\n\u001b[1;32m    533\u001b[0m                                              request_data)\n",
      "\u001b[0;32m~/src/stripe_api/venv/lib/python3.8/site-packages/Adyen/client.py\u001b[0m in \u001b[0;36m_handle_response\u001b[0;34m(self, url, raw_response, raw_request, status_code, headers, request_dict)\u001b[0m\n\u001b[1;32m    596\u001b[0m                 \u001b[0mresponse\u001b[0m \u001b[0;34m=\u001b[0m \u001b[0mjson_lib\u001b[0m\u001b[0;34m.\u001b[0m\u001b[0mloads\u001b[0m\u001b[0;34m(\u001b[0m\u001b[0mraw_response\u001b[0m\u001b[0;34m)\u001b[0m\u001b[0;34m\u001b[0m\u001b[0;34m\u001b[0m\u001b[0m\n\u001b[1;32m    597\u001b[0m             \u001b[0;31m# Pass raised error to error handler.\u001b[0m\u001b[0;34m\u001b[0m\u001b[0;34m\u001b[0m\u001b[0;34m\u001b[0m\u001b[0m\n\u001b[0;32m--> 598\u001b[0;31m             self._handle_http_error(url, response, status_code,\n\u001b[0m\u001b[1;32m    599\u001b[0m                                     \u001b[0mheaders\u001b[0m\u001b[0;34m.\u001b[0m\u001b[0mget\u001b[0m\u001b[0;34m(\u001b[0m\u001b[0;34m'pspReference'\u001b[0m\u001b[0;34m)\u001b[0m\u001b[0;34m,\u001b[0m\u001b[0;34m\u001b[0m\u001b[0;34m\u001b[0m\u001b[0m\n\u001b[1;32m    600\u001b[0m                                     \u001b[0mraw_request\u001b[0m\u001b[0;34m,\u001b[0m \u001b[0mraw_response\u001b[0m\u001b[0;34m,\u001b[0m\u001b[0;34m\u001b[0m\u001b[0;34m\u001b[0m\u001b[0m\n",
      "\u001b[0;32m~/src/stripe_api/venv/lib/python3.8/site-packages/Adyen/client.py\u001b[0m in \u001b[0;36m_handle_http_error\u001b[0;34m(self, url, response_obj, status_code, psp_ref, raw_request, raw_response, headers, message)\u001b[0m\n\u001b[1;32m    701\u001b[0m                     \u001b[0;34m\" class. Please reach out to your Adyen Admin\"\u001b[0m\u001b[0;31m \u001b[0m\u001b[0;31m\\\u001b[0m\u001b[0;34m\u001b[0m\u001b[0;34m\u001b[0m\u001b[0m\n\u001b[1;32m    702\u001b[0m                     \u001b[0;34m\" if the problem persists\"\u001b[0m\u001b[0;34m\u001b[0m\u001b[0;34m\u001b[0m\u001b[0m\n\u001b[0;32m--> 703\u001b[0;31m             raise AdyenAPIAuthenticationError(erstr,\n\u001b[0m\u001b[1;32m    704\u001b[0m                                               error_code=response_obj.get(\n\u001b[1;32m    705\u001b[0m                                                   \"errorCode\"))\n",
      "\u001b[0;31mAdyenAPIAuthenticationError\u001b[0m: \"AdyenAPIAuthenticationError:Unable to authenticate with Adyen's Servers. Please verify the credentials set with the Adyen base class. Please reach out to your Adyen Admin if the problem persists\""
     ]
    }
   ],
   "source": [
    "res = ady.checkout.payment_methods({})"
   ]
  },
  {
   "cell_type": "code",
   "execution_count": null,
   "id": "c11547cd",
   "metadata": {},
   "outputs": [],
   "source": [
    "ady.checkout.orders?"
   ]
  },
  {
   "cell_type": "code",
   "execution_count": 113,
   "id": "a6b025e0",
   "metadata": {},
   "outputs": [],
   "source": [
    "import requests"
   ]
  },
  {
   "cell_type": "code",
   "execution_count": 114,
   "id": "563643fb",
   "metadata": {},
   "outputs": [],
   "source": [
    "res = requests.post(\n",
    "    url=\"https://checkout-test.adyen.com/v67/paymentLinks\",\n",
    "    headers={\n",
    "       \"x-API-key\": xapikey\n",
    "    },\n",
    "    json={\n",
    "      \"reference\": \"asdf123\",\n",
    "      \"amount\": {\n",
    "        \"value\": 4200,\n",
    "        \"currency\": \"USD\"\n",
    "      },\n",
    "      \"shopperReference\": \"UNIQUE_SHOPPER_ID_6728\",\n",
    "      \"description\": \"Blue Bag - ModelM671\",\n",
    "      \"countryCode\": \"US\",\n",
    "      \"merchantAccount\": merchant_account,\n",
    "      \"shopperLocale\": \"en-US\"\n",
    "    }\n",
    ")"
   ]
  },
  {
   "cell_type": "code",
   "execution_count": 115,
   "id": "a6bc3006",
   "metadata": {},
   "outputs": [
    {
     "data": {
      "text/plain": [
       "'https://test.adyen.link/PL2CB0FFF64765CD6F'"
      ]
     },
     "execution_count": 115,
     "metadata": {},
     "output_type": "execute_result"
    }
   ],
   "source": [
    "res.json()[\"url\"]"
   ]
  },
  {
   "cell_type": "code",
   "execution_count": 116,
   "id": "91c9bf82",
   "metadata": {},
   "outputs": [],
   "source": [
    "res1 = requests.post(url=\"https://cal-test.adyen.com/cal/services/Account/v6/createAccountHolder\",\n",
    "              headers={\n",
    "       \"x-API-key\": xapikey\n",
    "    },\n",
    "              json={\n",
    "   \"accountHolderCode\":\"accountHolder1\",\n",
    "   \"legalEntity\":\"Individual\"\n",
    "})"
   ]
  },
  {
   "cell_type": "code",
   "execution_count": 117,
   "id": "f1f1875f",
   "metadata": {},
   "outputs": [
    {
     "data": {
      "text/plain": [
       "{'_content': b'',\n",
       " '_content_consumed': True,\n",
       " '_next': None,\n",
       " 'status_code': 401,\n",
       " 'headers': {'Date': 'Mon, 07 Jun 2021 06:05:22 GMT', 'Server': 'Apache', 'Set-Cookie': 'JSESSIONID=E45E5E4DCE35252978FC0542A5E9F065.test107e; Path=/cal; Secure; HttpOnly', 'WWW-Authenticate': 'BASIC realm=\"Adyen PAL Service Authentication\"', 'Content-Length': '0', 'Keep-Alive': 'timeout=15, max=100', 'Connection': 'Keep-Alive'},\n",
       " 'raw': <urllib3.response.HTTPResponse at 0x1069df550>,\n",
       " 'url': 'https://cal-test.adyen.com/cal/services/Account/v6/createAccountHolder',\n",
       " 'encoding': None,\n",
       " 'history': [],\n",
       " 'reason': '401',\n",
       " 'cookies': <RequestsCookieJar[Cookie(version=0, name='JSESSIONID', value='E45E5E4DCE35252978FC0542A5E9F065.test107e', port=None, port_specified=False, domain='cal-test.adyen.com', domain_specified=False, domain_initial_dot=False, path='/cal', path_specified=True, secure=True, expires=None, discard=True, comment=None, comment_url=None, rest={'HttpOnly': None}, rfc2109=False)]>,\n",
       " 'elapsed': datetime.timedelta(microseconds=844266),\n",
       " 'request': <PreparedRequest [POST]>,\n",
       " 'connection': <requests.adapters.HTTPAdapter at 0x106e7e430>}"
      ]
     },
     "execution_count": 117,
     "metadata": {},
     "output_type": "execute_result"
    }
   ],
   "source": [
    "res1.__dict__"
   ]
  },
  {
   "cell_type": "code",
   "execution_count": 90,
   "id": "d5ca9bf9",
   "metadata": {},
   "outputs": [],
   "source": [
    "res2 = requests.post(\n",
    "url=\"https://checkout-test.adyen.com/v67/paymentMethods\",\n",
    "    headers={\n",
    "       \"x-API-key\": xapikey\n",
    "    },\n",
    "    json={\n",
    "         \"merchantAccount\": merchant_account\n",
    "    }\n",
    ")"
   ]
  },
  {
   "cell_type": "code",
   "execution_count": 93,
   "id": "355d0185",
   "metadata": {},
   "outputs": [
    {
     "data": {
      "text/plain": [
       "'{\"paymentMethods\":[{\"brands\":[\"amex\",\"diners\",\"discover\",\"mc\",\"visa\"],\"details\":[{\"key\":\"encryptedCardNumber\",\"type\":\"cardToken\"},{\"key\":\"encryptedSecurityCode\",\"type\":\"cardToken\"},{\"key\":\"encryptedExpiryMonth\",\"type\":\"cardToken\"},{\"key\":\"encryptedExpiryYear\",\"type\":\"cardToken\"},{\"key\":\"holderName\",\"optional\":true,\"type\":\"text\"}],\"name\":\"Credit Card\",\"type\":\"scheme\"},{\"name\":\"Pay later with Klarna.\",\"type\":\"klarna\"},{\"name\":\"Pay over time with Klarna.\",\"type\":\"klarna_account\"}]}'"
      ]
     },
     "execution_count": 93,
     "metadata": {},
     "output_type": "execute_result"
    }
   ],
   "source": [
    "res2.text"
   ]
  },
  {
   "cell_type": "code",
   "execution_count": null,
   "id": "f6413d2d",
   "metadata": {},
   "outputs": [],
   "source": []
  }
 ],
 "metadata": {
  "kernelspec": {
   "display_name": "Python 3",
   "language": "python",
   "name": "python3"
  },
  "language_info": {
   "codemirror_mode": {
    "name": "ipython",
    "version": 3
   },
   "file_extension": ".py",
   "mimetype": "text/x-python",
   "name": "python",
   "nbconvert_exporter": "python",
   "pygments_lexer": "ipython3",
   "version": "3.8.2"
  }
 },
 "nbformat": 4,
 "nbformat_minor": 5
}
